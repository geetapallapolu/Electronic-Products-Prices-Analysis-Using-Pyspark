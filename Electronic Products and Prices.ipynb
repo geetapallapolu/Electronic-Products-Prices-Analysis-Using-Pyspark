{
 "cells": [
  {
   "cell_type": "code",
   "execution_count": 13,
   "id": "ee4f1052",
   "metadata": {},
   "outputs": [],
   "source": [
    "import findspark"
   ]
  },
  {
   "cell_type": "code",
   "execution_count": 14,
   "id": "5f0bdeeb",
   "metadata": {},
   "outputs": [
    {
     "data": {
      "text/plain": [
       "'C:\\\\Users\\\\user\\\\anaconda3\\\\lib\\\\site-packages\\\\pyspark'"
      ]
     },
     "execution_count": 14,
     "metadata": {},
     "output_type": "execute_result"
    }
   ],
   "source": [
    "findspark.init()\n",
    "findspark.find()"
   ]
  },
  {
   "cell_type": "code",
   "execution_count": 15,
   "id": "66480c1f",
   "metadata": {},
   "outputs": [],
   "source": [
    "import pyspark\n",
    "from pyspark.sql import SparkSession\n",
    "spark = SparkSession.builder.master(\"local[*]\").getOrCreate()"
   ]
  },
  {
   "cell_type": "code",
   "execution_count": 16,
   "id": "445b14e7",
   "metadata": {},
   "outputs": [
    {
     "data": {
      "text/html": [
       "\n",
       "            <div>\n",
       "                <p><b>SparkSession - in-memory</b></p>\n",
       "                \n",
       "        <div>\n",
       "            <p><b>SparkContext</b></p>\n",
       "\n",
       "            <p><a href=\"http://DESKTOP-6RODQH2.home:4040\">Spark UI</a></p>\n",
       "\n",
       "            <dl>\n",
       "              <dt>Version</dt>\n",
       "                <dd><code>v3.3.0</code></dd>\n",
       "              <dt>Master</dt>\n",
       "                <dd><code>local[*]</code></dd>\n",
       "              <dt>AppName</dt>\n",
       "                <dd><code>pyspark-shell</code></dd>\n",
       "            </dl>\n",
       "        </div>\n",
       "        \n",
       "            </div>\n",
       "        "
      ],
      "text/plain": [
       "<pyspark.sql.session.SparkSession at 0x1e4050ab0a0>"
      ]
     },
     "execution_count": 16,
     "metadata": {},
     "output_type": "execute_result"
    }
   ],
   "source": [
    "spark"
   ]
  },
  {
   "cell_type": "code",
   "execution_count": 17,
   "id": "325ad6e8",
   "metadata": {},
   "outputs": [
    {
     "name": "stdout",
     "output_type": "stream",
     "text": [
      "+--------------------+----------------+----------------+-------------------+----------------+---------------+--------------------+-------------+---------------+---------------+--------------------+--------------------+-------+--------------------+--------------------+--------------------+----+--------------------+--------------------+------------+------------------+--------------------+-----------------+--------------------+-----------+-----------+----+----+----+----+----+\n",
      "|                  id|prices.amountMax|prices.amountMin|prices.availability|prices.condition|prices.currency|     prices.dateSeen|prices.isSale|prices.merchant|prices.shipping|   prices.sourceURLs|               asins|  brand|          categories|           dateAdded|         dateUpdated| ean|           imageURLs|                keys|manufacturer|manufacturerNumber|                name|primaryCategories|          sourceURLs|        upc|     weight|_c26|_c27|_c28|_c29|_c30|\n",
      "+--------------------+----------------+----------------+-------------------+----------------+---------------+--------------------+-------------+---------------+---------------+--------------------+--------------------+-------+--------------------+--------------------+--------------------+----+--------------------+--------------------+------------+------------------+--------------------+-----------------+--------------------+-----------+-----------+----+----+----+----+----+\n",
      "|AVphzgbJLJeJML43fA0o|          104.99|          104.99|                Yes|             New|            USD|2017-03-30T06:00:...|        FALSE|    Bestbuy.com|           null|http://www.bestbu...|          B00C78VIUE|  Sanus|Audio & Video Acc...|2015-04-13T12:00:51Z|2018-05-12T18:59:48Z|null|https://images-na...|sanusvlf410b110in...|        null|          VLF410B1|Sanus VLF410B1 10...|      Electronics|https://www.amazo...|7.93796E+11|32.8 pounds|null|null|null|null|null|\n",
      "|AVpgMuGwLJeJML43KY_c|            69.0|           64.99|           In Stock|             New|            USD|2017-12-14T06:00:00Z|         TRUE|    Walmart.com|      Expedited|https://www.walma...|B018K251JE,B00VIL...|Boytone|Stereos,Portable ...|2015-05-18T14:14:56Z|2018-06-13T19:39:02Z|null|https://images-na...|boytone2500w21chh...|     Boytone|           BT-210F|Boytone - 2500W 2...|      Electronics|http://reviews.be...|6.42015E+11|  14 pounds|null|null|null|null|null|\n",
      "|AVpgMuGwLJeJML43KY_c|            69.0|            69.0|           In Stock|             New|            USD|2017-09-08T05:00:00Z|        FALSE|    Walmart.com|      Expedited|https://www.walma...|B018K251JE,B00VIL...|Boytone|Stereos,Portable ...|2015-05-18T14:14:56Z|2018-06-13T19:39:02Z|null|https://images-na...|boytone2500w21chh...|     Boytone|           BT-210F|Boytone - 2500W 2...|      Electronics|http://reviews.be...|6.42015E+11|  14 pounds|null|null|null|null|null|\n",
      "|AVpgMuGwLJeJML43KY_c|           69.99|           69.99|                Yes|             New|            USD|2017-10-10T05:00:00Z|        FALSE|    Bestbuy.com|           null|https://www.bestb...|B018K251JE,B00VIL...|Boytone|Stereos,Portable ...|2015-05-18T14:14:56Z|2018-06-13T19:39:02Z|null|https://images-na...|boytone2500w21chh...|     Boytone|           BT-210F|Boytone - 2500W 2...|      Electronics|http://reviews.be...|6.42015E+11|  14 pounds|null|null|null|null|null|\n",
      "|AVpgMuGwLJeJML43KY_c|           66.99|           66.99|                Yes|             New|            USD|2017-08-28T07:00:00Z|        FALSE|    Bestbuy.com|           null|https://www.bestb...|B018K251JE,B00VIL...|Boytone|Stereos,Portable ...|2015-05-18T14:14:56Z|2018-06-13T19:39:02Z|null|https://images-na...|boytone2500w21chh...|     Boytone|           BT-210F|Boytone - 2500W 2...|      Electronics|http://reviews.be...|6.42015E+11|  14 pounds|null|null|null|null|null|\n",
      "+--------------------+----------------+----------------+-------------------+----------------+---------------+--------------------+-------------+---------------+---------------+--------------------+--------------------+-------+--------------------+--------------------+--------------------+----+--------------------+--------------------+------------+------------------+--------------------+-----------------+--------------------+-----------+-----------+----+----+----+----+----+\n",
      "only showing top 5 rows\n",
      "\n"
     ]
    }
   ],
   "source": [
    "Electronic_prducts = spark.read.format(\"csv\").option(\"header\", \"true\").option(\"nullValue\",\"N/A\").option(\"inferSchema\", \"true\").load(r\"C:\\Users\\user\\Downloads\\DatafinitiElectronicsProductsPricingData\\DatafinitiElectronicsProductsPricingData.csv\")\n",
    "Electronic_prducts.show(5)"
   ]
  },
  {
   "cell_type": "code",
   "execution_count": 18,
   "id": "f627afea",
   "metadata": {},
   "outputs": [
    {
     "data": {
      "text/plain": [
       "DataFrame[summary: string, id: string, prices.amountMax: string, prices.amountMin: string, prices.availability: string, prices.condition: string, prices.currency: string, prices.dateSeen: string, prices.isSale: string, prices.merchant: string, prices.shipping: string, prices.sourceURLs: string, asins: string, brand: string, categories: string, dateAdded: string, dateUpdated: string, ean: string, imageURLs: string, keys: string, manufacturer: string, manufacturerNumber: string, name: string, primaryCategories: string, sourceURLs: string, upc: string, weight: string, _c26: string, _c27: string, _c28: string, _c29: string, _c30: string]"
      ]
     },
     "execution_count": 18,
     "metadata": {},
     "output_type": "execute_result"
    }
   ],
   "source": [
    "Electronic_prducts.describe()"
   ]
  },
  {
   "cell_type": "code",
   "execution_count": 19,
   "id": "d6d2f03d",
   "metadata": {},
   "outputs": [
    {
     "data": {
      "text/plain": [
       "['id',\n",
       " 'prices.amountMax',\n",
       " 'prices.amountMin',\n",
       " 'prices.availability',\n",
       " 'prices.condition',\n",
       " 'prices.currency',\n",
       " 'prices.dateSeen',\n",
       " 'prices.isSale',\n",
       " 'prices.merchant',\n",
       " 'prices.shipping',\n",
       " 'prices.sourceURLs',\n",
       " 'asins',\n",
       " 'brand',\n",
       " 'categories',\n",
       " 'dateAdded',\n",
       " 'dateUpdated',\n",
       " 'ean',\n",
       " 'imageURLs',\n",
       " 'keys',\n",
       " 'manufacturer',\n",
       " 'manufacturerNumber',\n",
       " 'name',\n",
       " 'primaryCategories',\n",
       " 'sourceURLs',\n",
       " 'upc',\n",
       " 'weight',\n",
       " '_c26',\n",
       " '_c27',\n",
       " '_c28',\n",
       " '_c29',\n",
       " '_c30']"
      ]
     },
     "execution_count": 19,
     "metadata": {},
     "output_type": "execute_result"
    }
   ],
   "source": [
    "Electronic_prducts.columns"
   ]
  },
  {
   "cell_type": "code",
   "execution_count": 20,
   "id": "6fc37e3d",
   "metadata": {},
   "outputs": [
    {
     "name": "stdout",
     "output_type": "stream",
     "text": [
      "root\n",
      " |-- id: string (nullable = true)\n",
      " |-- prices.amountMax: double (nullable = true)\n",
      " |-- prices.amountMin: double (nullable = true)\n",
      " |-- prices.availability: string (nullable = true)\n",
      " |-- prices.condition: string (nullable = true)\n",
      " |-- prices.currency: string (nullable = true)\n",
      " |-- prices.dateSeen: string (nullable = true)\n",
      " |-- prices.isSale: string (nullable = true)\n",
      " |-- prices.merchant: string (nullable = true)\n",
      " |-- prices.shipping: string (nullable = true)\n",
      " |-- prices.sourceURLs: string (nullable = true)\n",
      " |-- asins: string (nullable = true)\n",
      " |-- brand: string (nullable = true)\n",
      " |-- categories: string (nullable = true)\n",
      " |-- dateAdded: string (nullable = true)\n",
      " |-- dateUpdated: string (nullable = true)\n",
      " |-- ean: string (nullable = true)\n",
      " |-- imageURLs: string (nullable = true)\n",
      " |-- keys: string (nullable = true)\n",
      " |-- manufacturer: string (nullable = true)\n",
      " |-- manufacturerNumber: string (nullable = true)\n",
      " |-- name: string (nullable = true)\n",
      " |-- primaryCategories: string (nullable = true)\n",
      " |-- sourceURLs: string (nullable = true)\n",
      " |-- upc: string (nullable = true)\n",
      " |-- weight: string (nullable = true)\n",
      " |-- _c26: string (nullable = true)\n",
      " |-- _c27: string (nullable = true)\n",
      " |-- _c28: string (nullable = true)\n",
      " |-- _c29: string (nullable = true)\n",
      " |-- _c30: string (nullable = true)\n",
      "\n"
     ]
    }
   ],
   "source": [
    "Electronic_prducts.printSchema()"
   ]
  },
  {
   "cell_type": "code",
   "execution_count": 21,
   "id": "4b0a35d2",
   "metadata": {},
   "outputs": [
    {
     "data": {
      "text/plain": [
       "14592"
      ]
     },
     "execution_count": 21,
     "metadata": {},
     "output_type": "execute_result"
    }
   ],
   "source": [
    "Electronic_prducts.count()"
   ]
  },
  {
   "cell_type": "code",
   "execution_count": 22,
   "id": "f82d9b59",
   "metadata": {},
   "outputs": [
    {
     "data": {
      "text/plain": [
       "DataFrame[id: string, prices.amountMax: double, prices.amountMin: double, prices.availability: string, prices.condition: string, prices.currency: string, prices.dateSeen: string, prices.isSale: string, prices.merchant: string, prices.shipping: string, prices.sourceURLs: string, asins: string, brand: string, categories: string, dateAdded: string, dateUpdated: string, ean: string, imageURLs: string, keys: string, manufacturer: string, manufacturerNumber: string, name: string, primaryCategories: string, sourceURLs: string, upc: string, weight: string, _c26: string, _c27: string, _c28: string, _c29: string, _c30: string]"
      ]
     },
     "execution_count": 22,
     "metadata": {},
     "output_type": "execute_result"
    }
   ],
   "source": [
    "Electronic_prducts=Electronic_prducts.dropDuplicates()\n",
    "Electronic_prducts"
   ]
  },
  {
   "cell_type": "code",
   "execution_count": 23,
   "id": "bd2ef438",
   "metadata": {},
   "outputs": [
    {
     "data": {
      "text/plain": [
       "14579"
      ]
     },
     "execution_count": 23,
     "metadata": {},
     "output_type": "execute_result"
    }
   ],
   "source": [
    "Electronic_prducts.count()"
   ]
  },
  {
   "cell_type": "code",
   "execution_count": 24,
   "id": "518bea54",
   "metadata": {},
   "outputs": [],
   "source": [
    "Electronic_prducts=Electronic_prducts.withColumnRenamed(\"prices.amountMax\", \"Amount_Max\") \\\n",
    "     .withColumnRenamed(\"prices.amountMin\", \"Amount_Min\") \\\n",
    "     .withColumnRenamed(\"prices.availability\", \"Availability\") \\\n",
    "     .withColumnRenamed(\"prices.condition\", \"Condition\") \\\n",
    "     .withColumnRenamed(\"prices.currency\", \"Currency\") \\\n",
    "     .withColumnRenamed(\"prices.dateSeen\", \"DateSeen\") \\\n",
    "     .withColumnRenamed(\"prices.isSale\", \"Is_Sale\") \\\n",
    "     .withColumnRenamed(\"prices.merchant\", \"Merchant\") \\\n",
    "     .withColumnRenamed(\"prices.shipping\", \"Shipping\") \\\n",
    "     .withColumnRenamed(\"prices.sourceURLs\", \"Source\")"
   ]
  },
  {
   "cell_type": "code",
   "execution_count": 25,
   "id": "ed23fa5a",
   "metadata": {},
   "outputs": [],
   "source": [
    "Electronic_prducts=Electronic_prducts.drop('id','_c26','_c27','_c28','_c29','_c30','ean','keys','manufacturerNumber','shipping','sourceURLs','upc','imageURLs','currency')"
   ]
  },
  {
   "cell_type": "code",
   "execution_count": 26,
   "id": "606f9474",
   "metadata": {},
   "outputs": [
    {
     "name": "stdout",
     "output_type": "stream",
     "text": [
      "Amount_Max  with null values  0.0\n",
      "Amount_Min  with null values  0.0\n",
      "Availability  with null values  0.13142190822415803\n",
      "Condition  with null values  0.09561698333219014\n",
      "DateSeen  with null values  0.0\n",
      "Is_Sale  with null values  0.0\n",
      "Merchant  with null values  0.05219836751491872\n",
      "Source  with null values  0.0\n",
      "asins  with null values  0.0\n",
      "brand  with null values  0.0\n",
      "categories  with null values  0.0\n",
      "dateAdded  with null values  0.0\n",
      "dateUpdated  with null values  0.0\n",
      "manufacturer  with null values  0.4780163248508128\n",
      "name  with null values  0.0\n",
      "primaryCategories  with null values  0.0\n",
      "weight  with null values  0.0\n"
     ]
    }
   ],
   "source": [
    "All_values=Electronic_prducts.count()\n",
    "for col in Electronic_prducts.columns:\n",
    "    empty_column=(Electronic_prducts.filter(Electronic_prducts[col].isNull())).count()\n",
    "    Null_Percentage=empty_column/All_values\n",
    "    print(col, ' with null values ', Null_Percentage)"
   ]
  },
  {
   "cell_type": "code",
   "execution_count": 27,
   "id": "8294b0d5",
   "metadata": {},
   "outputs": [
    {
     "name": "stdout",
     "output_type": "stream",
     "text": [
      "['Availability']\n",
      "['Availability', 'Condition']\n",
      "['Availability', 'Condition', 'Merchant']\n",
      "['Availability', 'Condition', 'Merchant', 'manufacturer']\n"
     ]
    }
   ],
   "source": [
    "Column_missing=[]\n",
    "for col in Electronic_prducts.columns:\n",
    "    empty_column=(Electronic_prducts.filter(Electronic_prducts[col].isNull())).count()\n",
    "    if empty_column>0:\n",
    "        Column_missing.append(col)\n",
    "        print(Column_missing)"
   ]
  },
  {
   "cell_type": "code",
   "execution_count": 28,
   "id": "9ce36176",
   "metadata": {},
   "outputs": [],
   "source": [
    "Electronic_prducts2 = Electronic_prducts.na.drop()"
   ]
  },
  {
   "cell_type": "code",
   "execution_count": 29,
   "id": "36834922",
   "metadata": {},
   "outputs": [
    {
     "name": "stdout",
     "output_type": "stream",
     "text": [
      "Amount_Max  with null values  0.0\n",
      "Amount_Min  with null values  0.0\n",
      "Availability  with null values  0.0\n",
      "Condition  with null values  0.0\n",
      "DateSeen  with null values  0.0\n",
      "Is_Sale  with null values  0.0\n",
      "Merchant  with null values  0.0\n",
      "Source  with null values  0.0\n",
      "asins  with null values  0.0\n",
      "brand  with null values  0.0\n",
      "categories  with null values  0.0\n",
      "dateAdded  with null values  0.0\n",
      "dateUpdated  with null values  0.0\n",
      "manufacturer  with null values  0.0\n",
      "name  with null values  0.0\n",
      "primaryCategories  with null values  0.0\n",
      "weight  with null values  0.0\n"
     ]
    }
   ],
   "source": [
    "All_values=Electronic_prducts2.count()\n",
    "for col in Electronic_prducts2.columns:\n",
    "    empty_column=(Electronic_prducts2.filter(Electronic_prducts2[col].isNull())).count()\n",
    "    Null_Percentage=empty_column/All_values\n",
    "    print(col, ' with null values ',Null_Percentage)"
   ]
  },
  {
   "cell_type": "code",
   "execution_count": 30,
   "id": "504d2a5d",
   "metadata": {},
   "outputs": [
    {
     "name": "stdout",
     "output_type": "stream",
     "text": [
      "+--------------+-----+\n",
      "|         brand|count|\n",
      "+--------------+-----+\n",
      "|       Crosley|    5|\n",
      "|          naxa|    9|\n",
      "|         Denon|   58|\n",
      "|         Thule|    9|\n",
      "|        Papago|   15|\n",
      "| Grace Digital|   33|\n",
      "|  Twelve South|    4|\n",
      "|         Razer|   95|\n",
      "|         Onkyo|   78|\n",
      "|          Sima|   10|\n",
      "|Master Dynamic|    5|\n",
      "|           JBL|   60|\n",
      "|    SunbriteTV|    2|\n",
      "|      myCharge|    9|\n",
      "|       TP-Link|   35|\n",
      "|       Kenwood|  141|\n",
      "|           RCA|   12|\n",
      "|         Beats|    4|\n",
      "|      Fujifilm|  119|\n",
      "|Power Acoustik|   35|\n",
      "+--------------+-----+\n",
      "only showing top 20 rows\n",
      "\n"
     ]
    }
   ],
   "source": [
    "Electronic_prducts2.groupBy('brand').count().show()"
   ]
  },
  {
   "cell_type": "code",
   "execution_count": 31,
   "id": "671673ee",
   "metadata": {},
   "outputs": [
    {
     "name": "stdout",
     "output_type": "stream",
     "text": [
      "+-------+------------------+\n",
      "|summary|        Amount_Max|\n",
      "+-------+------------------+\n",
      "|  count|              6164|\n",
      "|   mean|430.94867618429237|\n",
      "| stddev| 727.2681814904798|\n",
      "|    min|               1.0|\n",
      "|    max|           6499.99|\n",
      "+-------+------------------+\n",
      "\n"
     ]
    }
   ],
   "source": [
    "Electronic_prducts2.select(\"Amount_Max\").describe().show()"
   ]
  },
  {
   "cell_type": "code",
   "execution_count": 32,
   "id": "f064fce8",
   "metadata": {},
   "outputs": [
    {
     "name": "stdout",
     "output_type": "stream",
     "text": [
      "+--------------------+\n",
      "|          Categories|\n",
      "+--------------------+\n",
      "|In-Wall & In-Ceil...|\n",
      "|Computers,Pro Aud...|\n",
      "|TVs & Electronics...|\n",
      "|Electronics,TV & ...|\n",
      "|Camera & Photo Ac...|\n",
      "|Audio & Video Acc...|\n",
      "|Accessories,Porta...|\n",
      "|Camera Accessorie...|\n",
      "|Computers,Compute...|\n",
      "|Stereos,Outdoor S...|\n",
      "|Integrated Amplif...|\n",
      "|Stereos,Home Thea...|\n",
      "|Compact Stereos,M...|\n",
      "|Audio & Video Acc...|\n",
      "|Computers,Network...|\n",
      "|Audio & Video Acc...|\n",
      "|Pro Audio,Shotgun...|\n",
      "|Computers,Tablets...|\n",
      "|Receivers Amplifi...|\n",
      "|Computers,Tablet ...|\n",
      "+--------------------+\n",
      "only showing top 20 rows\n",
      "\n"
     ]
    }
   ],
   "source": [
    "Electronic_prducts2.select('Categories').distinct().show()"
   ]
  },
  {
   "cell_type": "code",
   "execution_count": 33,
   "id": "885c2fbc",
   "metadata": {},
   "outputs": [
    {
     "data": {
      "text/plain": [
       "135"
      ]
     },
     "execution_count": 33,
     "metadata": {},
     "output_type": "execute_result"
    }
   ],
   "source": [
    "import pyspark.sql.functions as f\n",
    "\n",
    "split_criteria = f.split(Electronic_prducts2.categories,\",\")\n",
    "Electronic_prducts2=Electronic_prducts2.withColumn('Category', split_criteria.getItem(0))\n",
    "Electronic_prducts2=Electronic_prducts2.drop('Categories')\n",
    "Electronic_prducts2.select('Category').distinct().count()"
   ]
  },
  {
   "cell_type": "code",
   "execution_count": 34,
   "id": "8b4fdcb7",
   "metadata": {},
   "outputs": [
    {
     "name": "stdout",
     "output_type": "stream",
     "text": [
      "+---------------+-----+\n",
      "|          brand|count|\n",
      "+---------------+-----+\n",
      "|           Sony|  653|\n",
      "|          Apple|  621|\n",
      "|        Samsung|  468|\n",
      "|        Pioneer|  166|\n",
      "|         Yamaha|  150|\n",
      "|        Kenwood|  141|\n",
      "|          Canon|  140|\n",
      "|       Fujifilm|  119|\n",
      "|          Razer|   95|\n",
      "|  Elite Screens|   90|\n",
      "|          Nikon|   83|\n",
      "|          Onkyo|   78|\n",
      "|         Garmin|   76|\n",
      "|       Logitech|   75|\n",
      "|        SanDisk|   70|\n",
      "|House of Marley|   64|\n",
      "|        Lowepro|   63|\n",
      "|            JBL|   60|\n",
      "|        Seagate|   59|\n",
      "|          Denon|   58|\n",
      "+---------------+-----+\n",
      "only showing top 20 rows\n",
      "\n"
     ]
    }
   ],
   "source": [
    "Electronic_prducts2.groupBy('brand').count().orderBy('count',ascending=False).show()"
   ]
  },
  {
   "cell_type": "code",
   "execution_count": 35,
   "id": "49b1686f",
   "metadata": {},
   "outputs": [
    {
     "name": "stdout",
     "output_type": "stream",
     "text": [
      "+--------------------+-----+\n",
      "|             Is_Sale|count|\n",
      "+--------------------+-----+\n",
      "|               FALSE| 4806|\n",
      "| 3/4\"\" silk dome ...|    1|\n",
      "|                TRUE| 1352|\n",
      "|    4 ohms impedance|    1|\n",
      "| Depth: 6.5\"\" (16...|    1|\n",
      "| Compact-Space Sa...|    1|\n",
      "| Remote Control I...|    2|\n",
      "+--------------------+-----+\n",
      "\n"
     ]
    }
   ],
   "source": [
    "Electronic_prducts2.groupBy('Is_Sale').count().show()"
   ]
  },
  {
   "cell_type": "code",
   "execution_count": 36,
   "id": "2760bd13",
   "metadata": {},
   "outputs": [
    {
     "name": "stdout",
     "output_type": "stream",
     "text": [
      "+-------+-----+\n",
      "|Is_Sale|count|\n",
      "+-------+-----+\n",
      "|  FALSE| 4806|\n",
      "|   TRUE| 1352|\n",
      "+-------+-----+\n",
      "\n"
     ]
    }
   ],
   "source": [
    "Electronic_prducts2=Electronic_prducts2.filter(Electronic_prducts2.Is_Sale.isin([\"FALSE\",\"TRUE\"]))\n",
    "Electronic_prducts2.groupBy('Is_Sale').count().show()"
   ]
  },
  {
   "cell_type": "code",
   "execution_count": 37,
   "id": "4418ce62",
   "metadata": {},
   "outputs": [
    {
     "name": "stdout",
     "output_type": "stream",
     "text": [
      "Requirement already satisfied: pyspark_dist_explore in c:\\users\\user\\anaconda3\\lib\\site-packages (0.1.8)\n",
      "Requirement already satisfied: scipy in c:\\users\\user\\anaconda3\\lib\\site-packages (from pyspark_dist_explore) (1.8.1)\n",
      "Requirement already satisfied: numpy in c:\\users\\user\\anaconda3\\lib\\site-packages (from pyspark_dist_explore) (1.20.3)\n",
      "Requirement already satisfied: matplotlib in c:\\users\\user\\anaconda3\\lib\\site-packages (from pyspark_dist_explore) (3.4.3)\n",
      "Requirement already satisfied: pandas in c:\\users\\user\\anaconda3\\lib\\site-packages (from pyspark_dist_explore) (1.3.4)\n",
      "Requirement already satisfied: python-dateutil>=2.7 in c:\\users\\user\\anaconda3\\lib\\site-packages (from matplotlib->pyspark_dist_explore) (2.8.2)\n",
      "Requirement already satisfied: kiwisolver>=1.0.1 in c:\\users\\user\\anaconda3\\lib\\site-packages (from matplotlib->pyspark_dist_explore) (1.3.1)\n",
      "Requirement already satisfied: pillow>=6.2.0 in c:\\users\\user\\anaconda3\\lib\\site-packages (from matplotlib->pyspark_dist_explore) (8.4.0)\n",
      "Requirement already satisfied: cycler>=0.10 in c:\\users\\user\\anaconda3\\lib\\site-packages (from matplotlib->pyspark_dist_explore) (0.10.0)\n",
      "Requirement already satisfied: pyparsing>=2.2.1 in c:\\users\\user\\anaconda3\\lib\\site-packages (from matplotlib->pyspark_dist_explore) (3.0.4)\n",
      "Requirement already satisfied: six in c:\\users\\user\\anaconda3\\lib\\site-packages (from cycler>=0.10->matplotlib->pyspark_dist_explore) (1.16.0)\n",
      "Requirement already satisfied: pytz>=2017.3 in c:\\users\\user\\anaconda3\\lib\\site-packages (from pandas->pyspark_dist_explore) (2021.3)\n"
     ]
    },
    {
     "name": "stderr",
     "output_type": "stream",
     "text": [
      "WARNING: Ignoring invalid distribution -tatsmodels (c:\\users\\user\\anaconda3\\lib\\site-packages)\n",
      "WARNING: Ignoring invalid distribution -tatsmodels (c:\\users\\user\\anaconda3\\lib\\site-packages)\n",
      "WARNING: Ignoring invalid distribution -tatsmodels (c:\\users\\user\\anaconda3\\lib\\site-packages)\n",
      "WARNING: Ignoring invalid distribution -tatsmodels (c:\\users\\user\\anaconda3\\lib\\site-packages)\n",
      "WARNING: Ignoring invalid distribution -tatsmodels (c:\\users\\user\\anaconda3\\lib\\site-packages)\n",
      "WARNING: Ignoring invalid distribution -tatsmodels (c:\\users\\user\\anaconda3\\lib\\site-packages)\n"
     ]
    }
   ],
   "source": [
    "! pip install pyspark_dist_explore"
   ]
  },
  {
   "cell_type": "code",
   "execution_count": 38,
   "id": "62961d90",
   "metadata": {},
   "outputs": [
    {
     "data": {
      "image/png": "[encoded data removed]",
      "text/plain": [
       "<Figure size 648x432 with 1 Axes>"
      ]
     },
     "metadata": {
      "needs_background": "light"
     },
     "output_type": "display_data"
    }
   ],
   "source": [
    "from pyspark_dist_explore import hist\n",
    "import matplotlib.pyplot as plt\n",
    "fig, ax = plt.subplots(figsize =(9, 6))\n",
    "hist(ax, Electronic_prducts2.select('Amount_Max'), bins = 20,color='seagreen')\n",
    "plt.xlabel('Maximum Amount')\n",
    "plt.ylabel('Percentage')\n",
    "plt.show()"
   ]
  },
  {
   "cell_type": "code",
   "execution_count": 40,
   "id": "4d5e8b4b",
   "metadata": {},
   "outputs": [
    {
     "data": {
      "image/png": "[encoded data removed]",
      "text/plain": [
       "<Figure size 1080x648 with 2 Axes>"
      ]
     },
     "metadata": {
      "needs_background": "light"
     },
     "output_type": "display_data"
    }
   ],
   "source": [
    "import seaborn as sns\n",
    "\n",
    "Violin_plot=Electronic_prducts2.select('Amount_Max').toPandas()\n",
    "fig=plt.figure(figsize=(15,9))\n",
    "ax=fig.add_subplot(1,2,1)\n",
    "ax=sns.boxplot(data=Violin_plot)\n",
    "sns.set_palette(\"viridis\")\n",
    "ax=fig.add_subplot(1,2,2)\n",
    "ax=sns.violinplot(data=Violin_plot)"
   ]
  },
  {
   "cell_type": "code",
   "execution_count": 41,
   "id": "f6456d0a",
   "metadata": {},
   "outputs": [
    {
     "data": {
      "image/png": "[encoded data removed]",
      "text/plain": [
       "<Figure size 720x504 with 1 Axes>"
      ]
     },
     "metadata": {},
     "output_type": "display_data"
    }
   ],
   "source": [
    "#fig, axs = plt.subplots(2, 2)\n",
    "fig = plt.figure(figsize =(10, 7))\n",
    "Electronic_prducts2.select('Is_Sale').toPandas().value_counts().plot.pie(explode=[0,0.1],autopct='%1.1f%%')\n",
    "plt.title('isSale')\n",
    "plt.show()"
   ]
  },
  {
   "cell_type": "code",
   "execution_count": 42,
   "id": "e1c43ac5",
   "metadata": {},
   "outputs": [
    {
     "data": {
      "text/plain": [
       "Text(0.5, 1.0, 'Scatter Plot')"
      ]
     },
     "execution_count": 42,
     "metadata": {},
     "output_type": "execute_result"
    },
    {
     "data": {
      "image/png": "[encoded data removed]",
      "text/plain": [
       "<Figure size 1080x432 with 1 Axes>"
      ]
     },
     "metadata": {
      "needs_background": "light"
     },
     "output_type": "display_data"
    }
   ],
   "source": [
    "x1=Electronic_prducts.toPandas()['Amount_Max'].values.tolist()\n",
    "y1=Electronic_prducts.toPandas()['Amount_Min'].values.tolist()\n",
    "fig=plt.figure(figsize=(15,6))\n",
    "plt.scatter(x1,y1,color='blue')\n",
    "plt.xlabel('AmountMax')\n",
    "plt.ylabel('AmountMin')\n",
    "plt.title('Scatter Plot')"
   ]
  },
  {
   "cell_type": "code",
   "execution_count": 43,
   "id": "4042b66c",
   "metadata": {},
   "outputs": [
    {
     "name": "stdout",
     "output_type": "stream",
     "text": [
      "['Computers', 'Electronics', 'Stereos', 'Digital Cameras', 'Auto & Tires']\n"
     ]
    },
    {
     "data": {
      "text/plain": [
       "[Text(0.5, 0, 'Price'), Text(0, 0.5, 'Category')]"
      ]
     },
     "execution_count": 43,
     "metadata": {},
     "output_type": "execute_result"
    },
    {
     "data": {
      "image/png": "[encoded data removed]",
      "text/plain": [
       "<Figure size 720x648 with 1 Axes>"
      ]
     },
     "metadata": {
      "needs_background": "light"
     },
     "output_type": "display_data"
    }
   ],
   "source": [
    "Category=Electronic_prducts2.groupBy('Category').count().orderBy('count',ascending=False)\n",
    "Category=Category.toPandas()\n",
    "\n",
    "Category=Category[:5]\n",
    "top5=list(Category.Category)\n",
    "print(top5)\n",
    "Category=Electronic_prducts2.filter(Electronic_prducts2.Category.isin(top5)).toPandas()\n",
    "fig, ax = plt.subplots(figsize=(10, 9))\n",
    "sns.barplot(x='Amount_Min', y='Category', data=Category).set_title('Category Vs Price')\n",
    "ax.set(xlabel='Price', ylabel='Category')"
   ]
  },
  {
   "cell_type": "code",
   "execution_count": 44,
   "id": "2e04e973",
   "metadata": {},
   "outputs": [
    {
     "name": "stdout",
     "output_type": "stream",
     "text": [
      "['Computers', 'Electronics', 'Stereos', 'Digital Cameras', 'Auto & Tires']\n"
     ]
    },
    {
     "data": {
      "text/plain": [
       "<seaborn.axisgrid.FacetGrid at 0x1e40d963040>"
      ]
     },
     "execution_count": 44,
     "metadata": {},
     "output_type": "execute_result"
    },
    {
     "data": {
      "image/png": "[encoded data removed]",
      "text/plain": [
       "<Figure size 785.75x360 with 1 Axes>"
      ]
     },
     "metadata": {
      "needs_background": "light"
     },
     "output_type": "display_data"
    }
   ],
   "source": [
    "Category=Electronic_prducts2.groupBy('Category').count().orderBy('count',ascending=False)\n",
    "Category=Category.toPandas()\n",
    "# taking top 5 categories\n",
    "Category=Category[:5]\n",
    "top5=list(Category.Category)\n",
    "print(top5)\n",
    "Category=Electronic_prducts2.filter(Electronic_prducts2.Category.isin(top5)).toPandas()\n",
    "sns.catplot(x=\"Category\", y=\"Amount_Min\", hue=\"Is_Sale\", kind=\"bar\", data=Category, aspect=2)"
   ]
  },
  {
   "cell_type": "code",
   "execution_count": 45,
   "id": "fed6ea3c",
   "metadata": {},
   "outputs": [
    {
     "data": {
      "text/plain": [
       "['Amount_Max',\n",
       " 'Amount_Min',\n",
       " 'Availability',\n",
       " 'Condition',\n",
       " 'DateSeen',\n",
       " 'Is_Sale',\n",
       " 'Merchant',\n",
       " 'Source',\n",
       " 'asins',\n",
       " 'brand',\n",
       " 'dateAdded',\n",
       " 'dateUpdated',\n",
       " 'manufacturer',\n",
       " 'name',\n",
       " 'primaryCategories',\n",
       " 'weight',\n",
       " 'Category']"
      ]
     },
     "execution_count": 45,
     "metadata": {},
     "output_type": "execute_result"
    }
   ],
   "source": [
    "Electronic_prducts2.columns"
   ]
  },
  {
   "cell_type": "code",
   "execution_count": 46,
   "id": "f40c3b34",
   "metadata": {},
   "outputs": [],
   "source": [
    "import pyspark\n",
    "from pyspark.ml import Pipeline\n",
    "from pyspark.ml.feature import StringIndexer, VectorAssembler\n",
    "from pyspark.ml.feature import OneHotEncoder\n",
    "from pyspark.ml.classification import LogisticRegression\n",
    "\n",
    "Categorical_Columns = [\"Availability\", \"Condition\", \"Merchant\", \"asins\", \"manufacturer\", \"name\", \"brand\", \"weight\", \"Category\"]\n",
    "stages = [] # stages in Pipeline\n",
    "for categoricalCol in Categorical_Columns:\n",
    "    # Category Indexing with StringIndexer\n",
    "    stringIndexer = StringIndexer(inputCol=categoricalCol, outputCol=categoricalCol + \"Index\")\n",
    "    encoder = OneHotEncoder(inputCols=[stringIndexer.getOutputCol()], outputCols=[categoricalCol + \"classVec\"])\n",
    "    stages += [stringIndexer, encoder]\n",
    "\n",
    "label_stringIdx = StringIndexer(inputCol=\"Is_Sale\", outputCol=\"label\")\n",
    "stages += [label_stringIdx]\n",
    "\n",
    "numericCols = [\"Amount_Max\", \"Amount_Min\"]\n",
    "assemblerInputs = [c + \"classVec\" for c in Categorical_Columns] + numericCols\n",
    "assembler = VectorAssembler(inputCols=assemblerInputs, outputCol=\"features\")\n",
    "stages += [assembler]\n",
    "partialPipeline = Pipeline().setStages(stages)\n",
    "pipelineModel = partialPipeline.fit(Electronic_prducts2)\n",
    "preppedDataDF = pipelineModel.transform(Electronic_prducts2)\n",
    "\n",
    "# Fit model to prepped data\n",
    "lrModel = LogisticRegression().fit(preppedDataDF)"
   ]
  },
  {
   "cell_type": "code",
   "execution_count": 47,
   "id": "72d5ca54",
   "metadata": {},
   "outputs": [],
   "source": [
    "Prefered_Cols = [\"label\", \"features\"] + Electronic_prducts2.columns\n",
    "dataset = preppedDataDF.select(Prefered_Cols)"
   ]
  },
  {
   "cell_type": "code",
   "execution_count": 48,
   "id": "42b0cd1e",
   "metadata": {},
   "outputs": [],
   "source": [
    "(trainingData, testData) = dataset.randomSplit([0.7, 0.3], seed=100)"
   ]
  },
  {
   "cell_type": "code",
   "execution_count": 49,
   "id": "bc5c583d",
   "metadata": {},
   "outputs": [],
   "source": [
    "from pyspark.ml.classification import LogisticRegression\n",
    " \n",
    "# Create initial LogisticRegression model\n",
    "lr = LogisticRegression(labelCol=\"label\", featuresCol=\"features\", maxIter=10)\n",
    " \n",
    "# Train model with Training Data\n",
    "logic_reg_Model = lr.fit(trainingData)\n",
    "predictions = logic_reg_Model.transform(testData)\n",
    "selected = predictions.select(\"label\", \"prediction\", \"probability\")"
   ]
  },
  {
   "cell_type": "code",
   "execution_count": 50,
   "id": "73ce954c",
   "metadata": {},
   "outputs": [
    {
     "name": "stdout",
     "output_type": "stream",
     "text": [
      "Test AUC 0.7874392437521528\n"
     ]
    }
   ],
   "source": [
    "from pyspark.ml.evaluation import BinaryClassificationEvaluator\n",
    " \n",
    "# Evaluate model\n",
    "Final_evaluator = BinaryClassificationEvaluator()\n",
    "print(\"Test AUC\", Final_evaluator.evaluate(predictions))"
   ]
  },
  {
   "cell_type": "code",
   "execution_count": 51,
   "id": "7daa617f",
   "metadata": {},
   "outputs": [],
   "source": [
    "from pyspark.ml.classification import LogisticRegression, DecisionTreeClassifier, RandomForestClassifier\n",
    "from pyspark.ml.evaluation import BinaryClassificationEvaluator, MulticlassClassificationEvaluator\n",
    "from pyspark.ml.tuning import ParamGridBuilder, CrossValidator\n",
    "paramGrid = ParamGridBuilder().build()\n"
   ]
  },
  {
   "cell_type": "code",
   "execution_count": 52,
   "id": "dc36a5cb",
   "metadata": {},
   "outputs": [],
   "source": [
    "classifiers = []\n",
    "classifiers.append(('LR', LogisticRegression(labelCol='label', featuresCol='features')))\n",
    "classifiers.append(('DT', DecisionTreeClassifier(labelCol='label', featuresCol='features')))\n",
    "classifiers.append(('RF', RandomForestClassifier(labelCol='label', featuresCol='features')))\n"
   ]
  },
  {
   "cell_type": "code",
   "execution_count": 53,
   "id": "c1aca031",
   "metadata": {},
   "outputs": [],
   "source": [
    "DT = DecisionTreeClassifier(labelCol=\"label\", featuresCol=\"features\")\n",
    " \n",
    "# Train model with Training Data\n",
    "DecisionTree_Model = DT.fit(trainingData)\n",
    "predictions_DT = DecisionTree_Model.transform(testData)\n",
    "selected_DT = predictions_DT.select(\"label\", \"prediction\", \"probability\")"
   ]
  },
  {
   "cell_type": "code",
   "execution_count": 54,
   "id": "1b18a82a",
   "metadata": {},
   "outputs": [
    {
     "name": "stdout",
     "output_type": "stream",
     "text": [
      "Test AUC 0.4619268820084963\n"
     ]
    }
   ],
   "source": [
    "from pyspark.ml.evaluation import BinaryClassificationEvaluator\n",
    " \n",
    "# Evaluate model\n",
    "DT_evaluator = BinaryClassificationEvaluator()\n",
    "print(\"Test AUC\", DT_evaluator.evaluate(predictions_DT))"
   ]
  },
  {
   "cell_type": "code",
   "execution_count": 55,
   "id": "b3b67025",
   "metadata": {},
   "outputs": [],
   "source": [
    "RF = RandomForestClassifier(labelCol='label', featuresCol='features')\n",
    " \n",
    "# Train model with Training Data\n",
    "Random_Model = RF.fit(trainingData)\n",
    "predictions_RF = Random_Model.transform(testData)\n",
    "selected_RF = predictions_RF.select(\"label\", \"prediction\", \"probability\")"
   ]
  },
  {
   "cell_type": "code",
   "execution_count": 56,
   "id": "78c83f09",
   "metadata": {},
   "outputs": [
    {
     "name": "stdout",
     "output_type": "stream",
     "text": [
      "Test AUC 0.700482860678429\n"
     ]
    }
   ],
   "source": [
    "RF_evaluator = BinaryClassificationEvaluator()\n",
    "print(\"Test AUC\", RF_evaluator.evaluate(predictions_RF))"
   ]
  },
  {
   "cell_type": "code",
   "execution_count": null,
   "id": "8c299ac0",
   "metadata": {},
   "outputs": [],
   "source": []
  }
 ],
 "metadata": {
  "kernelspec": {
   "display_name": "Python 3 (ipykernel)",
   "language": "python",
   "name": "python3"
  },
  "language_info": {
   "codemirror_mode": {
    "name": "ipython",
    "version": 3
   },
   "file_extension": ".py",
   "mimetype": "text/x-python",
   "name": "python",
   "nbconvert_exporter": "python",
   "pygments_lexer": "ipython3",
   "version": "3.9.7"
  }
 },
 "nbformat": 4,
 "nbformat_minor": 5
}
